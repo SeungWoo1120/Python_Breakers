{
 "cells": [
  {
   "cell_type": "code",
   "execution_count": 11,
   "id": "d2dd664d",
   "metadata": {},
   "outputs": [
    {
     "data": {
      "text/plain": [
       "'53.33'"
      ]
     },
     "execution_count": 11,
     "metadata": {},
     "output_type": "execute_result"
    }
   ],
   "source": [
    "#국어 50점, 수학 80점, 영어 30점 / 세 과목의 평균 구하기\n",
    "\n",
    "korean = 50\n",
    "math = 80\n",
    "english = 30\n",
    "\n",
    "sum = korean + math + english # 세 과목의 합계 \n",
    "avg = sum / 3 # 평균\n",
    "\n",
    "\"%0.2f\" % avg # 소수점 2번째자리까지만 깔끔하게"
   ]
  },
  {
   "cell_type": "code",
   "execution_count": 19,
   "id": "118f2480",
   "metadata": {},
   "outputs": [
    {
     "name": "stdout",
     "output_type": "stream",
     "text": [
      "자연수 409298570은 짝수입니다\n"
     ]
    }
   ],
   "source": [
    "# 자연수 409298570가 짝수인지 프로그래밍으로 판별하기\n",
    "\n",
    "# 2로 나눴을 때, 나머지가 0인 경우 짝수\n",
    "\n",
    "# 자연수 409298570은 짝수이기 때문에 나머지가 0이라는 논리에 True\n",
    "a = 409298570\n",
    "a % 2 == 0\n",
    "\n",
    "# if문을 통한 짝수 판별 \n",
    "if (a % 2 == 0):\n",
    "    print(\"자연수 %d은 짝수입니다\" %a)\n",
    "else :\n",
    "    print(\"자연수 %d은 짝수가 아닙니다\" %a)"
   ]
  },
  {
   "cell_type": "code",
   "execution_count": 22,
   "id": "04de9755",
   "metadata": {},
   "outputs": [
    {
     "data": {
      "text/plain": [
       "['국어', '수학', '영어', '프로그래밍']"
      ]
     },
     "execution_count": 22,
     "metadata": {},
     "output_type": "execute_result"
    }
   ],
   "source": [
    "# 내장함수를 사용하여, \"국어:수학:영어:프로그래망\" -> \"국어,수학,영어,프로그래밍\" 로 변환\n",
    "# split 함수 사용\n",
    "\n",
    "a = \"국어:수학:영어:프로그래밍\"\n",
    "a.split(':')\n"
   ]
  },
  {
   "cell_type": "code",
   "execution_count": 26,
   "id": "45491b13",
   "metadata": {},
   "outputs": [
    {
     "data": {
      "text/plain": [
       "[5, 80, 3, 70, 1]"
      ]
     },
     "execution_count": 26,
     "metadata": {},
     "output_type": "execute_result"
    }
   ],
   "source": [
    "# 내장함수를 사용하여, [1,70,3,80,5] -> [5,80,3,70,1]로 변환\n",
    "# reverse() 함수 사용\n",
    "\n",
    "a = [1,70,3,80,5]\n",
    "a.reverse()\n",
    "a"
   ]
  },
  {
   "cell_type": "code",
   "execution_count": 30,
   "id": "3460840e",
   "metadata": {},
   "outputs": [
    {
     "data": {
      "text/plain": [
       "'파이썬은 정말 편하다'"
      ]
     },
     "execution_count": 30,
     "metadata": {},
     "output_type": "execute_result"
    }
   ],
   "source": [
    "# [\"파이썬은\", \"정말\", \"편하다\"]라는 리스트를 내장함수를 이용하여 -> \"파이썬은 정말 편하다\"\n",
    "# 어떤 함수를 사용해야할지 정확하게 판단 못함\n",
    "\n",
    "a = [\"파이썬은\", \"정말\", \"편하다\"]\n",
    "\n",
    "a[0] + ' ' + a[1] + ' ' + a[2]"
   ]
  },
  {
   "cell_type": "code",
   "execution_count": 33,
   "id": "48081136",
   "metadata": {},
   "outputs": [
    {
     "data": {
      "text/plain": [
       "[1, 3, 4, 5, 10, 50, 410]"
      ]
     },
     "execution_count": 33,
     "metadata": {},
     "output_type": "execute_result"
    }
   ],
   "source": [
    "# [1,50,410,10,3,4,5]를 내장함수를 이용해서 오름차순으로 정렬\n",
    "# sort() 함수 사용\n",
    "\n",
    "a = [1,50,410,10,3,4,5]\n",
    "a.sort()\n",
    "a"
   ]
  },
  {
   "cell_type": "code",
   "execution_count": 34,
   "id": "bb8ef027",
   "metadata": {},
   "outputs": [
    {
     "data": {
      "text/plain": [
       "'I love python'"
      ]
     },
     "execution_count": 34,
     "metadata": {},
     "output_type": "execute_result"
    }
   ],
   "source": [
    "# \" I love python \"의 양쪽 공백을 내장함수를 이용해서 지워라\n",
    "# strip() 함수 사용\n",
    "\n",
    "a = \" I love python \"\n",
    "a.strip()"
   ]
  },
  {
   "cell_type": "code",
   "execution_count": 41,
   "id": "311f959e",
   "metadata": {},
   "outputs": [
    {
     "name": "stdout",
     "output_type": "stream",
     "text": [
      "5050\n"
     ]
    }
   ],
   "source": [
    "# for문을 사용해서 1 ~ 100까지의 수를 더하고 출력\n",
    "\n",
    "temp = 0\n",
    "for i in range(1,101) : \n",
    "    temp = temp + i \n",
    "    \n",
    "print(temp)"
   ]
  },
  {
   "cell_type": "code",
   "execution_count": 43,
   "id": "43688a0d",
   "metadata": {},
   "outputs": [
    {
     "name": "stdout",
     "output_type": "stream",
     "text": [
      "5050\n"
     ]
    }
   ],
   "source": [
    "# while문을 이용해서 1 ~ 100까지의 수를 더하고 출력\n",
    "\n",
    "temp = 0\n",
    "a = 1\n",
    "\n",
    "while a < 101 :\n",
    "    temp = temp + a\n",
    "    a = a + 1\n",
    "\n",
    "print(temp)"
   ]
  },
  {
   "cell_type": "code",
   "execution_count": 46,
   "id": "0099dcbe",
   "metadata": {},
   "outputs": [
    {
     "name": "stdout",
     "output_type": "stream",
     "text": [
      "1683\n"
     ]
    }
   ],
   "source": [
    "# 1부터 100까지의 3의 배수만 더하고 출력하라\n",
    "\n",
    "temp = 0\n",
    "\n",
    "for i in range(1,101) : \n",
    "    if(i % 3 == 0) :\n",
    "        temp += i\n",
    "\n",
    "print(temp)"
   ]
  },
  {
   "cell_type": "code",
   "execution_count": 62,
   "id": "eaeca590",
   "metadata": {},
   "outputs": [
    {
     "name": "stdout",
     "output_type": "stream",
     "text": [
      "69.0\n"
     ]
    }
   ],
   "source": [
    "# 중간고사 점수 : [70,60,55,75,95,90,80,80,85,100]\n",
    "\n",
    "\n",
    "temp = 0\n",
    "\n",
    "a = [70,60,55,75,95,90,80,80,85,100]\n",
    "\n",
    "for i in range(1,len(a)) :\n",
    "    temp = temp + a[i-1]\n",
    "    \n",
    "avg = temp / len(a)\n",
    "print(avg)\n",
    "\n"
   ]
  },
  {
   "cell_type": "code",
   "execution_count": 67,
   "id": "091c75b9",
   "metadata": {},
   "outputs": [
    {
     "data": {
      "text/plain": [
       "[2, 6, 10, 40, 90, 100, 2020]"
      ]
     },
     "execution_count": 67,
     "metadata": {},
     "output_type": "execute_result"
    }
   ],
   "source": [
    "# [1, 3, 5, 40, 90, 100, 2020]를 for문을 사용해서 홀수에만 2를 곱하고, 리스트를 출력하라\n",
    "\n",
    "a = [1, 3, 5, 40, 90, 100, 2020]\n",
    "\n",
    "for i in range(1,len(a)) :\n",
    "    if(a[i-1] % 2 == 0) :\n",
    "        continue\n",
    "    else : \n",
    "        a[i-1] *= 2\n",
    "\n",
    "a\n",
    " "
   ]
  },
  {
   "cell_type": "code",
   "execution_count": 78,
   "id": "21a04197",
   "metadata": {},
   "outputs": [
    {
     "name": "stdout",
     "output_type": "stream",
     "text": [
      "*\n",
      "**\n",
      "***\n",
      "****\n",
      "*****\n"
     ]
    }
   ],
   "source": [
    "# for문을 이용해 계단식 별 출력하기 \n",
    "\n",
    "for i in range(5):\n",
    "    for j in range(5):\n",
    "        if(i >= j):\n",
    "            print('*', end = '')\n",
    "    print()\n",
    "            "
   ]
  },
  {
   "cell_type": "code",
   "execution_count": 99,
   "id": "57ba76ff",
   "metadata": {},
   "outputs": [
    {
     "name": "stdin",
     "output_type": "stream",
     "text": [
      "점수를 입력하세요:  99\n"
     ]
    },
    {
     "data": {
      "text/plain": [
       "'A'"
      ]
     },
     "execution_count": 99,
     "metadata": {},
     "output_type": "execute_result"
    }
   ],
   "source": [
    "# 학점산출함수(점수 입력, 학점을 매겨주고 출력)\n",
    "\n",
    "a = int(input(\"점수를 입력하세요: \"))\n",
    "\n",
    "def grade(a):\n",
    "    \n",
    "    if (a >= 80 and a < 100) :\n",
    "        result = 'A'\n",
    "    elif (a >= 50 and a < 80) :\n",
    "        result = 'B'\n",
    "    elif (a >= 30 and a < 50) :\n",
    "        result = 'C'\n",
    "    elif (a > 100) :\n",
    "        result = \"점수를 다시 입력해주세요\"\n",
    "    else :\n",
    "        result = 'F'\n",
    "        \n",
    "    return result\n",
    "\n",
    "grade(a)"
   ]
  },
  {
   "cell_type": "code",
   "execution_count": 1,
   "id": "0123e539",
   "metadata": {},
   "outputs": [
    {
     "name": "stdin",
     "output_type": "stream",
     "text": [
      "정수를 입력하세요:  3\n"
     ]
    },
    {
     "data": {
      "text/plain": [
       "False"
      ]
     },
     "execution_count": 1,
     "metadata": {},
     "output_type": "execute_result"
    }
   ],
   "source": [
    "# 짝수 판별 프로그램\n",
    "\n",
    "a = int(input(\"정수를 입력하세요: \"))\n",
    "\n",
    "def even(a):\n",
    "    \n",
    "    if (a % 2 == 0) :\n",
    "        result = True\n",
    "    else :\n",
    "        result = False\n",
    "        \n",
    "    return result\n",
    "\n",
    "even(a)"
   ]
  },
  {
   "cell_type": "code",
   "execution_count": 12,
   "id": "6642cd83",
   "metadata": {},
   "outputs": [
    {
     "name": "stdin",
     "output_type": "stream",
     "text": [
      "주민등록번호를 입력하세요 ex) 901234-1234567 : 971120-1234567\n"
     ]
    },
    {
     "name": "stdout",
     "output_type": "stream",
     "text": [
      "97년생, 남자\n"
     ]
    }
   ],
   "source": [
    "# 주민등록번호 판별 프로그램\n",
    "\n",
    "a = input(\"주민등록번호를 입력하세요 ex) 901234-1234567 :\")\n",
    "\n",
    "def birth(a) :\n",
    "    \n",
    "    birth = a[:2]\n",
    "    \n",
    "    return birth\n",
    "\n",
    "def sex(a) :    \n",
    "    if(a[7] == '1'):\n",
    "        sex = '남자'\n",
    "    elif(a[7] == '2'):\n",
    "        sex = '여자'\n",
    "    else :\n",
    "        sex = '잘못 입력하셨습니다.'\n",
    "        \n",
    "    return sex\n",
    "\n",
    "print(birth(a) + \"년생, \" + sex(a))\n",
    "    "
   ]
  },
  {
   "cell_type": "code",
   "execution_count": 15,
   "id": "3c0582ee",
   "metadata": {},
   "outputs": [
    {
     "name": "stdin",
     "output_type": "stream",
     "text": [
      "숫자를 입력하세요:  1\n",
      "기호를 입력하세요:  /\n",
      "숫자를 입력하세요:  4\n"
     ]
    },
    {
     "data": {
      "text/plain": [
       "0.25"
      ]
     },
     "execution_count": 15,
     "metadata": {},
     "output_type": "execute_result"
    }
   ],
   "source": [
    "# 간단한 계산기 프로그램\n",
    "\n",
    "a = int(input(\"숫자를 입력하세요: \")) \n",
    "b = input(\"기호를 입력하세요: \")\n",
    "c = int(input(\"숫자를 입력하세요: \"))\n",
    "\n",
    "def calculate(a,b,c):\n",
    "    if(b == '+'):\n",
    "        result = a+c\n",
    "    if(b == '-'):\n",
    "        result = a-c\n",
    "    if(b == '/'):\n",
    "        result = a/c\n",
    "    if(b == '*'):\n",
    "        result = a*c\n",
    "        \n",
    "    return result\n",
    "\n",
    "calculate(a,b,c)"
   ]
  },
  {
   "cell_type": "code",
   "execution_count": 23,
   "id": "81bc831b",
   "metadata": {},
   "outputs": [
    {
     "name": "stdin",
     "output_type": "stream",
     "text": [
      "천원 단위 금액을 입력하세요:  4570\n"
     ]
    },
    {
     "data": {
      "text/plain": [
       "(4, 1, 0, 1, 2)"
      ]
     },
     "execution_count": 23,
     "metadata": {},
     "output_type": "execute_result"
    }
   ],
   "source": [
    "# 거스름돈 함수 : 금액을 입력하면 거스름돈을 출력\n",
    "# 함수의 return값을 여러 개 잘 다루는법을 모르겠어서 깔끔하게 결과값 도출 못함...\n",
    "# for문 등으로 더 간단한 함수화 가능할거 같음 더 공부해 보겠습니당..\n",
    "\n",
    "a = int(input(\"천원 단위 금액을 입력하세요: \"))\n",
    "\n",
    "def money(a) :\n",
    "    a_1000_count = a // 1000\n",
    "    a_1000_left = a % 1000\n",
    "    a_500_count = a_1000_left // 500\n",
    "    a_500_left = a_1000_left % 500\n",
    "    a_100_count = a_500_left // 100\n",
    "    a_100_left = a_500_left % 500\n",
    "    a_50_count = a_100_left // 50\n",
    "    a_50_left = a_100_left % 50\n",
    "    a_10_count = a_50_left // 10\n",
    "    a_10_left = a_50_left % 10\n",
    "        \n",
    "    return a_1000_count, a_500_count, a_100_count, a_50_count, a_10_count\n",
    "        \n",
    "money(a)"
   ]
  },
  {
   "cell_type": "code",
   "execution_count": 28,
   "id": "73275bc8",
   "metadata": {},
   "outputs": [
    {
     "data": {
      "text/plain": [
       "(3.0, 2.0)"
      ]
     },
     "execution_count": 28,
     "metadata": {},
     "output_type": "execute_result"
    }
   ],
   "source": [
    "# 이차방정식의 근을 구하는 함수\n",
    "# 근의 공식 : -b +- (b^2-4ac)^ / 2a\n",
    "import math\n",
    "\n",
    "def func(a,b,c) :\n",
    "    x1 = (-b + (b**2 - 4*a*c)**0.5) / 2*a\n",
    "    x2 = (-b - (b**2 - 4*a*c)**0.5) / 2*a\n",
    "\n",
    "    return x1, x2\n",
    "\n",
    "func(1,-5,6)"
   ]
  },
  {
   "cell_type": "code",
   "execution_count": null,
   "id": "8f0bebec",
   "metadata": {},
   "outputs": [],
   "source": []
  }
 ],
 "metadata": {
  "kernelspec": {
   "display_name": "Python 3",
   "language": "python",
   "name": "python3"
  },
  "language_info": {
   "codemirror_mode": {
    "name": "ipython",
    "version": 3
   },
   "file_extension": ".py",
   "mimetype": "text/x-python",
   "name": "python",
   "nbconvert_exporter": "python",
   "pygments_lexer": "ipython3",
   "version": "3.7.11"
  }
 },
 "nbformat": 4,
 "nbformat_minor": 5
}
