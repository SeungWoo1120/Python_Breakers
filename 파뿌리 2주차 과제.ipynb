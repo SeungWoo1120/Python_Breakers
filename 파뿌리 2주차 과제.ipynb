{
 "cells": [
  {
   "cell_type": "code",
   "execution_count": 38,
   "id": "2d44bd94-14c4-4b5b-a283-bb1eb528979c",
   "metadata": {},
   "outputs": [
    {
     "name": "stdin",
     "output_type": "stream",
     "text": [
      "자동 몇 줄을 구매하시나요? : 5\n"
     ]
    },
    {
     "name": "stdout",
     "output_type": "stream",
     "text": [
      "[5, 6, 9, 30, 37, 40]\n",
      "[2, 9, 11, 19, 27, 40]\n",
      "[8, 24, 27, 28, 34, 43]\n",
      "[7, 11, 22, 37, 38, 44]\n",
      "[13, 15, 23, 27, 35, 42]\n"
     ]
    }
   ],
   "source": [
    "# 로또 번호 생성기 함수를 정렬포함해서 만들기\n",
    "# 파이썬 랜덤함수 random\n",
    "# 예외처리를 여기서 어떻게 넣어야 할지 몰라서 고객 입장에서 주문하는 형태로 바꿔봤음\n",
    "\n",
    "import random\n",
    "\n",
    "def lotto():\n",
    "    \n",
    "    try:\n",
    "        num = int(input(\"자동 몇 줄을 구매하시나요? :\"))\n",
    "    except:\n",
    "        print(\"숫자만 입력하세요.\")\n",
    "    \n",
    "    auto_lotto = [0,0,0,0,0,0] \n",
    "    \n",
    "    for i in range(num):\n",
    "        auto_lotto[i] = random.sample(range(1,46),6) # 리스트 안에 리스트를 만들어가는 형태\n",
    "        auto_lotto[i].sort()\n",
    "        print(auto_lotto[i])\n",
    "    \n",
    "\n",
    "lotto()"
   ]
  },
  {
   "cell_type": "code",
   "execution_count": 3,
   "id": "1eb79e31-8b97-4b44-ab64-121b8185e89a",
   "metadata": {},
   "outputs": [
    {
     "name": "stdin",
     "output_type": "stream",
     "text": [
      "문자를 입력하세요 :  python\n"
     ]
    },
    {
     "name": "stdout",
     "output_type": "stream",
     "text": [
      "6\n",
      "y\n",
      "nohtyp\n"
     ]
    }
   ],
   "source": [
    "# 문자열을 분석하는 함수 (반드시 내장함수 이용)\n",
    "\n",
    "def word_analysis():\n",
    "    \n",
    "    a = input(\"문자를 입력하세요 : \") \n",
    "\n",
    "    print(len(a))\n",
    "    print(max(a))\n",
    "    print(a[::-1]) # 슬라이싱 (reverse를 쓰려면 list함수에서만 가능하다)\n",
    "    \n",
    "word_analysis()"
   ]
  },
  {
   "cell_type": "code",
   "execution_count": 48,
   "id": "db147f25-9dab-4a18-8b2f-58cc402c41e1",
   "metadata": {},
   "outputs": [
    {
     "name": "stdout",
     "output_type": "stream",
     "text": [
      "현재 : 2021-08-24 18:41:02\n",
      "미래 : 2021-10-12 19:49:09\n"
     ]
    }
   ],
   "source": [
    "# datetime 라이브러리를 사용하여 지금을 출력하고, 49일 1시간 8분 7초 후가 언제인지 출력하는 함수 만들기\n",
    "\n",
    "import datetime\n",
    "\n",
    "def clock():\n",
    "    \n",
    "    today = datetime.datetime.now().now()\n",
    "\n",
    "    after_today = today + datetime.timedelta(days = 49) + datetime.timedelta(hours = 1) + datetime.timedelta(minutes = 8) + datetime.timedelta(seconds = 7)\n",
    "\n",
    "    today = str(today)\n",
    "    today = today[0:19]\n",
    "    after_today = str(after_today)\n",
    "    after_today = after_today[0:19]\n",
    "\n",
    "    print(\"현재 :\", today)\n",
    "    print(\"미래 :\", after_today)\n",
    "    \n",
    "clock()\n"
   ]
  },
  {
   "cell_type": "code",
   "execution_count": 63,
   "id": "f5b9e1f2-77fb-4ead-adf0-836bb1a1a447",
   "metadata": {},
   "outputs": [
    {
     "name": "stdin",
     "output_type": "stream",
     "text": [
      "이메일을 입력하세요:  1231234ad@hamitl.co.kr\n"
     ]
    },
    {
     "name": "stdout",
     "output_type": "stream",
     "text": [
      "올바른 형식입니다.\n"
     ]
    }
   ],
   "source": [
    "# 정규표현식을 이용하여 이메일을 입력받으면 주어진 메일이 올바른 형식인지 파악하는 함수를 만들어라\n",
    "\n",
    "import re\n",
    "\n",
    "def email():\n",
    "    \n",
    "    your_email = input(\"이메일을 입력하세요: \")\n",
    "    email_frame = re.compile('[a-zA-Z0-9+-_]+@[a-z]+.[a-z.]')\n",
    "\n",
    "    m = email_frame.match(your_email)\n",
    "    if m:\n",
    "        print(\"올바른 형식입니다.\")\n",
    "    else:\n",
    "        print(\"올바르지 못한 형식입니다.\")\n",
    "        \n",
    "email()"
   ]
  },
  {
   "cell_type": "code",
   "execution_count": null,
   "id": "b1040fbb-4a66-40e6-b29c-664a91e75eb5",
   "metadata": {},
   "outputs": [],
   "source": [
    "# 영한사전 프로그램 만들기. Dictionary 자료구조를 이용해야하며 여러 기능이 포함되어야 함\n",
    "# 1. 입력, 2. 영어로검색, 3. 한글로검색, 4. 나가기, 5. 전체출력, 6. 종료\n",
    "# 예외처리 및 좀 더 깔끔하게 프로그램을 짤 수 있을 것 같지만, 여기까지가 한계인거 같습니다 팡종님....\n",
    "\n",
    "\n",
    "def dictionary_cha():\n",
    "    while True:\n",
    "        menu = int(input(\"메뉴를 선택해주세요.\\n1. 입력 \\n2. 전체출력 \\n3. 영어로검색 \\n4. 한글로검색 \\n5. 종료\\n\")) \n",
    "\n",
    "        if menu == 1 :\n",
    "\n",
    "            word_dic = {}\n",
    "            while True:\n",
    "                word = input(\"입력을 선택하셨습니다.\\n영단어:한글단어 쌍으로 입력해주시고, 끝났다면 나가기를 입력해주세요.\\n\")\n",
    "                if word == \"나가기\":\n",
    "                    break\n",
    "                else :\n",
    "                    word_dic[word.split(\":\")[0]] = word.split(\":\")[1]\n",
    "\n",
    "        elif menu == 2 :\n",
    "            print(\"전체출력 결과입니다.\")\n",
    "            print(word_dic)\n",
    "\n",
    "        elif menu == 3:\n",
    "\n",
    "            while True :\n",
    "                english_word = input(\"영어로 검색을 선택하셨습니다.\\n영단어를 입력하세요.\\n끝나시면 나가기를 눌러주세요\\n\")\n",
    "                if english_word == \"나가기\" :\n",
    "                    break\n",
    "                else:\n",
    "                    print(word_dic[english_word])\n",
    "\n",
    "        elif menu == 4:\n",
    "              while True :\n",
    "                korean_word = input(\"한글로 검색을 선택하셨습니다.\\n한글 단어를 입력하세요.\\n 끝나시면 나가기를 눌러주세요\")\n",
    "                if korean_word == \"나가기\" :\n",
    "                    break\n",
    "                else:\n",
    "                    new_word = {}\n",
    "                    for i, j in word_dic.items():\n",
    "                        new_word[j] = i\n",
    "                    print(new_word[korean_word])\n",
    "\n",
    "        elif menu == 5:\n",
    "            print(\"사전을 종료합니다\")\n",
    "            break\n",
    "            \n",
    "dictionary_cha()"
   ]
  },
  {
   "cell_type": "code",
   "execution_count": null,
   "id": "92a4956a-a644-49dc-8237-16061a37335e",
   "metadata": {},
   "outputs": [],
   "source": []
  }
 ],
 "metadata": {
  "kernelspec": {
   "display_name": "Python 3",
   "language": "python",
   "name": "python3"
  },
  "language_info": {
   "codemirror_mode": {
    "name": "ipython",
    "version": 3
   },
   "file_extension": ".py",
   "mimetype": "text/x-python",
   "name": "python",
   "nbconvert_exporter": "python",
   "pygments_lexer": "ipython3",
   "version": "3.7.11"
  }
 },
 "nbformat": 4,
 "nbformat_minor": 5
}
